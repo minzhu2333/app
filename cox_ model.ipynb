{
 "cells": [
  {
   "cell_type": "code",
   "execution_count": 20,
   "metadata": {},
   "outputs": [],
   "source": [
    "import pandas as pd\n",
    "import numpy as np\n",
    "import matplotlib.pyplot as plt\n",
    "import seaborn as sns\n",
    "import joblib"
   ]
  },
  {
   "cell_type": "code",
   "execution_count": 21,
   "metadata": {},
   "outputs": [],
   "source": [
    "from sklearn.model_selection import train_test_split\n",
    "from sklearn.preprocessing import LabelEncoder, OneHotEncoder\n",
    "from sklearn.preprocessing import StandardScaler\n",
    "from sklearn.impute import KNNImputer"
   ]
  },
  {
   "cell_type": "code",
   "execution_count": 22,
   "metadata": {},
   "outputs": [],
   "source": [
    "from sklearn.ensemble import RandomForestClassifier, RandomForestRegressor, GradientBoostingRegressor\n",
    "from sklearn.model_selection import KFold\n",
    "from sklearn.metrics import confusion_matrix, accuracy_score, classification_report\n",
    "from sklearn.model_selection import cross_val_predict, cross_val_score\n",
    "from sklearn.svm import SVC\n",
    "from sklearn.linear_model import LinearRegression\n",
    "from sklearn.metrics import mean_squared_error\n",
    "from sklearn.metrics import mean_absolute_error\n",
    "from sklearn.model_selection import GridSearchCV, RandomizedSearchCV\n",
    "from sklearn.metrics import make_scorer\n",
    "from scipy.stats import randint, uniform, loguniform"
   ]
  },
  {
   "cell_type": "code",
   "execution_count": 23,
   "metadata": {},
   "outputs": [],
   "source": [
    "from lifelines import KaplanMeierFitter\n",
    "from sksurv.ensemble import RandomSurvivalForest\n",
    "from sksurv.ensemble import GradientBoostingSurvivalAnalysis\n",
    "from sksurv.tree import SurvivalTree\n",
    "from sksurv.meta import Stacking\n",
    "from sksurv.linear_model import CoxPHSurvivalAnalysis"
   ]
  },
  {
   "cell_type": "code",
   "execution_count": 24,
   "metadata": {},
   "outputs": [
    {
     "name": "stdout",
     "output_type": "stream",
     "text": [
      "   Patient ID  Year of diagnosis     Sex  Age   Race Median household income  \\\n",
      "0        3614               2017  Female   74  White               ≥ $75,000   \n",
      "1        4135               2017  Female   78  White               ≥ $75,000   \n",
      "2        4432               2017  Female   69  White               ≥ $75,000   \n",
      "3        7922               2017  Female   79  White               ≥ $75,000   \n",
      "4       66852               2017  Female   81  White               ≥ $75,000   \n",
      "\n",
      "      Marital status at diagnosis    Grade Combined Summary Stage Stage Group  \\\n",
      "0  Married (including common law)      III                Distant          IV   \n",
      "1                         Widowed  Unknown                Distant          IV   \n",
      "2                        Divorced  Unknown                Distant          IV   \n",
      "3                        Divorced       II               Regional          II   \n",
      "4  Married (including common law)      III               Regional         III   \n",
      "\n",
      "   ... Surgery Radiation Chemotherapy Mets at DX-bone Mets at DX-brain  \\\n",
      "0  ...      No   Unknown           No             Yes               No   \n",
      "1  ...      No   Unknown           No             Yes               No   \n",
      "2  ...      No   Unknown           No              No               No   \n",
      "3  ...     Yes   Unknown           No              No               No   \n",
      "4  ...      No       Yes           No              No               No   \n",
      "\n",
      "  Mets at DX-liver Mets at DX-lung Survival months  \\\n",
      "0               No              No               1   \n",
      "1              Yes             Yes               2   \n",
      "2               No              No               1   \n",
      "3               No              No              42   \n",
      "4               No              No              11   \n",
      "\n",
      "                                Survival months flag Vital status  \n",
      "0  Complete dates are available and there are mor...         Dead  \n",
      "1  Complete dates are available and there are mor...         Dead  \n",
      "2  Complete dates are available and there are mor...         Dead  \n",
      "3  Complete dates are available and there are mor...        Alive  \n",
      "4  Complete dates are available and there are mor...         Dead  \n",
      "\n",
      "[5 rows x 21 columns]\n"
     ]
    }
   ],
   "source": [
    "# Import dataset\n",
    "df = pd.read_csv('dataset_da_2017.csv', encoding='utf-8')\n",
    "print(df.head())"
   ]
  },
  {
   "cell_type": "code",
   "execution_count": 25,
   "metadata": {},
   "outputs": [
    {
     "name": "stdout",
     "output_type": "stream",
     "text": [
      "      Sex  Age   Race Median household income     Marital status at diagnosis  \\\n",
      "0  Female   74  White               ≥ $75,000  Married (including common law)   \n",
      "1  Female   78  White               ≥ $75,000                         Widowed   \n",
      "2  Female   69  White               ≥ $75,000                        Divorced   \n",
      "3  Female   79  White               ≥ $75,000                        Divorced   \n",
      "4  Female   81  White               ≥ $75,000  Married (including common law)   \n",
      "\n",
      "     Grade Combined Summary Stage Stage Group Tumor Size Surgery Radiation  \\\n",
      "0      III                Distant          IV         50      No   Unknown   \n",
      "1  Unknown                Distant          IV         56      No   Unknown   \n",
      "2  Unknown                Distant          IV         66      No   Unknown   \n",
      "3       II               Regional          II         23     Yes   Unknown   \n",
      "4      III               Regional         III         68      No       Yes   \n",
      "\n",
      "  Chemotherapy Mets at DX-bone Mets at DX-brain Mets at DX-liver  \\\n",
      "0           No             Yes               No               No   \n",
      "1           No             Yes               No              Yes   \n",
      "2           No              No               No               No   \n",
      "3           No              No               No               No   \n",
      "4           No              No               No               No   \n",
      "\n",
      "  Mets at DX-lung  Survival months Vital status  \n",
      "0              No                1         Dead  \n",
      "1             Yes                2         Dead  \n",
      "2              No                1         Dead  \n",
      "3              No               42        Alive  \n",
      "4              No               11         Dead  \n",
      "(34792, 18)\n",
      "      Sex  Age   Race Median household income     Marital status at diagnosis  \\\n",
      "0  Female   74  White               ≥ $75,000  Married (including common law)   \n",
      "1  Female   78  White               ≥ $75,000                         Widowed   \n",
      "2  Female   69  White               ≥ $75,000                        Divorced   \n",
      "3  Female   79  White               ≥ $75,000                        Divorced   \n",
      "4  Female   81  White               ≥ $75,000  Married (including common law)   \n",
      "\n",
      "  Grade Combined Summary Stage Stage Group Tumor Size Surgery Radiation  \\\n",
      "0   III                Distant          IV         50      No       NaN   \n",
      "1   NaN                Distant          IV         56      No       NaN   \n",
      "2   NaN                Distant          IV         66      No       NaN   \n",
      "3    II               Regional          II         23     Yes       NaN   \n",
      "4   III               Regional         III         68      No       Yes   \n",
      "\n",
      "  Chemotherapy Mets at DX-bone Mets at DX-brain Mets at DX-liver  \\\n",
      "0           No             Yes               No               No   \n",
      "1           No             Yes               No              Yes   \n",
      "2           No              No               No               No   \n",
      "3           No              No               No               No   \n",
      "4           No              No               No               No   \n",
      "\n",
      "  Mets at DX-lung  Survival months Vital status  \n",
      "0              No                1         Dead  \n",
      "1             Yes                2         Dead  \n",
      "2              No                1         Dead  \n",
      "3              No               42        Alive  \n",
      "4              No               11         Dead  \n"
     ]
    }
   ],
   "source": [
    "# Drop some unuseful columns\n",
    "columns_to_drop = ['Patient ID', 'Year of diagnosis', 'Survival months flag']\n",
    "df = df.drop(columns=columns_to_drop)\n",
    "print(df.head())\n",
    "print(df.shape)\n",
    "# Replace the unknown values with NaNs\n",
    "df.replace(\"Unknown\", np.nan, inplace=True)\n",
    "print(df.head())"
   ]
  },
  {
   "cell_type": "code",
   "execution_count": 26,
   "metadata": {},
   "outputs": [],
   "source": [
    "# Define X and y\n",
    "X = df.drop(['Survival months', 'Vital status'], axis=1)\n",
    "y_surv = df['Survival months']\n",
    "y_vital = df['Vital status']\n",
    "# Split data for 70% train and 30% test\n",
    "x_train, x_test, y_surv_train, y_surv_test, y_vital_train, y_vital_test = train_test_split(\n",
    "    X, y_surv, y_vital, test_size=0.3, random_state=42, stratify=y_vital)"
   ]
  },
  {
   "cell_type": "code",
   "execution_count": 27,
   "metadata": {},
   "outputs": [],
   "source": [
    "# Create mapping dictionaries\n",
    "income_mapping = {'< $35,000': 0, '$35,000 - $39,999': 1, '$40,000 - $44,999': 2, '$45,000 - $49,999': 3, '$50,000 - $54,999': 4,\n",
    "                  '$55,000 - $59,999': 5, '$60,000 - $64,999': 6, '$65,000 - $69,999': 7, '$70,000 - $74,999': 8, '≥ $75,000': 9}\n",
    "grade_mapping = {'I': 0, 'II': 1, 'III': 2, 'IV': 3}\n",
    "stage_mapping = {'I': 0, 'II': 1, 'III': 2, 'IV': 3}\n",
    "summary_stage_mapping = {'Localized': 0, 'Regional': 1, 'Distant': 2}\n",
    "\n",
    "# Encode the ordinal variables\n",
    "x_train['Median household income'] = x_train['Median household income'].map(income_mapping)\n",
    "x_test['Median household income'] = x_test['Median household income'].map(income_mapping)\n",
    "\n",
    "x_train['Grade'] = x_train['Grade'].map(grade_mapping)\n",
    "x_test['Grade'] = x_test['Grade'].map(grade_mapping)\n",
    "\n",
    "x_train['Stage Group'] = x_train['Stage Group'].map(stage_mapping)\n",
    "x_test['Stage Group'] = x_test['Stage Group'].map(stage_mapping)\n",
    "\n",
    "x_train['Combined Summary Stage'] = x_train['Combined Summary Stage'].map(summary_stage_mapping)\n",
    "x_test['Combined Summary Stage'] = x_test['Combined Summary Stage'].map(summary_stage_mapping)"
   ]
  },
  {
   "cell_type": "code",
   "execution_count": 28,
   "metadata": {},
   "outputs": [],
   "source": [
    "# Nominal variables\n",
    "nominal_vars = [\"Sex\", \"Race\", \"Marital status at diagnosis\", \"Surgery\", \"Radiation\",\n",
    "                \"Chemotherapy\", \"Mets at DX-bone\", \"Mets at DX-brain\", \"Mets at DX-lung\",\n",
    "                \"Mets at DX-liver\"]\n",
    "\n",
    "# Perform One-Hot encoding on nominal variables\n",
    "x_train = pd.get_dummies(x_train, columns=nominal_vars)\n",
    "x_test = pd.get_dummies(x_test, columns=nominal_vars)"
   ]
  },
  {
   "cell_type": "code",
   "execution_count": 29,
   "metadata": {},
   "outputs": [
    {
     "name": "stdout",
     "output_type": "stream",
     "text": [
      "Age                                                             int64\n",
      "Median household income                                         int64\n",
      "Grade                                                         float64\n",
      "Combined Summary Stage                                        float64\n",
      "Stage Group                                                     int64\n",
      "Tumor Size                                                    float64\n",
      "Sex_Female                                                      uint8\n",
      "Sex_Male                                                        uint8\n",
      "Race_American Indian/Alaska Native                              uint8\n",
      "Race_Asian or Pacific Islander                                  uint8\n",
      "Race_Black                                                      uint8\n",
      "Race_White                                                      uint8\n",
      "Marital status at diagnosis_Divorced                            uint8\n",
      "Marital status at diagnosis_Married (including common law)      uint8\n",
      "Marital status at diagnosis_Separated                           uint8\n",
      "Marital status at diagnosis_Single (never married)              uint8\n",
      "Marital status at diagnosis_Unmarried or Domestic Partner       uint8\n",
      "Marital status at diagnosis_Widowed                             uint8\n",
      "Surgery_No                                                      uint8\n",
      "Surgery_Yes                                                     uint8\n",
      "Radiation_No                                                    uint8\n",
      "Radiation_Yes                                                   uint8\n",
      "Chemotherapy_No                                                 uint8\n",
      "Chemotherapy_Yes                                                uint8\n",
      "Mets at DX-bone_No                                              uint8\n",
      "Mets at DX-bone_Yes                                             uint8\n",
      "Mets at DX-brain_No                                             uint8\n",
      "Mets at DX-brain_Yes                                            uint8\n",
      "Mets at DX-lung_No                                              uint8\n",
      "Mets at DX-lung_Yes                                             uint8\n",
      "Mets at DX-liver_No                                             uint8\n",
      "Mets at DX-liver_Yes                                            uint8\n",
      "dtype: object\n",
      "       Age  Median household income  Grade  Combined Summary Stage  \\\n",
      "6636    85                        8    NaN                     0.0   \n",
      "24979   58                        3    NaN                     2.0   \n",
      "12378   75                        8    1.0                     0.0   \n",
      "15263   70                        9    1.0                     0.0   \n",
      "21547   74                        5    NaN                     2.0   \n",
      "\n",
      "       Stage Group  Tumor Size  Sex_Female  Sex_Male  \\\n",
      "6636             0        40.0           0         1   \n",
      "24979            3        35.0           1         0   \n",
      "12378            0        35.0           1         0   \n",
      "15263            0         9.0           1         0   \n",
      "21547            3        77.0           0         1   \n",
      "\n",
      "       Race_American Indian/Alaska Native  Race_Asian or Pacific Islander  \\\n",
      "6636                                    0                               0   \n",
      "24979                                   0                               0   \n",
      "12378                                   0                               0   \n",
      "15263                                   0                               0   \n",
      "21547                                   0                               0   \n",
      "\n",
      "       ...  Chemotherapy_No  Chemotherapy_Yes  Mets at DX-bone_No  \\\n",
      "6636   ...                1                 0                   1   \n",
      "24979  ...                0                 1                   0   \n",
      "12378  ...                1                 0                   1   \n",
      "15263  ...                1                 0                   1   \n",
      "21547  ...                1                 0                   1   \n",
      "\n",
      "       Mets at DX-bone_Yes  Mets at DX-brain_No  Mets at DX-brain_Yes  \\\n",
      "6636                     0                    1                     0   \n",
      "24979                    1                    1                     0   \n",
      "12378                    0                    1                     0   \n",
      "15263                    0                    1                     0   \n",
      "21547                    0                    0                     1   \n",
      "\n",
      "       Mets at DX-lung_No  Mets at DX-lung_Yes  Mets at DX-liver_No  \\\n",
      "6636                    1                    0                    1   \n",
      "24979                   1                    0                    0   \n",
      "12378                   1                    0                    1   \n",
      "15263                   1                    0                    1   \n",
      "21547                   1                    0                    1   \n",
      "\n",
      "       Mets at DX-liver_Yes  \n",
      "6636                      0  \n",
      "24979                     1  \n",
      "12378                     0  \n",
      "15263                     0  \n",
      "21547                     0  \n",
      "\n",
      "[5 rows x 32 columns]\n"
     ]
    }
   ],
   "source": [
    "x_train[\"Tumor Size\"] = pd.to_numeric(x_train[\"Tumor Size\"], errors=\"coerce\")\n",
    "x_test[\"Tumor Size\"] = pd.to_numeric(x_test[\"Tumor Size\"], errors=\"coerce\")\n",
    "print(x_train.dtypes)\n",
    "print(x_train.head())"
   ]
  },
  {
   "cell_type": "code",
   "execution_count": 30,
   "metadata": {},
   "outputs": [],
   "source": [
    "# Save the column names and indexes before imputation\n",
    "columns = x_train.columns.tolist()\n",
    "train_index = x_train.index\n",
    "test_index = x_test.index\n"
   ]
  },
  {
   "cell_type": "code",
   "execution_count": 31,
   "metadata": {},
   "outputs": [
    {
     "name": "stdout",
     "output_type": "stream",
     "text": [
      "CPU times: total: 38.7 s\n",
      "Wall time: 37.9 s\n"
     ]
    }
   ],
   "source": [
    "%%time\n",
    "# Initialize the KNNImputer with 5 neighbors\n",
    "imputer = KNNImputer(n_neighbors=5)  \n",
    "# Fit the imputer on the training data and transform it\n",
    "x_train_imputed = imputer.fit_transform(x_train)\n",
    "# Transform the test data\n",
    "x_test_imputed = imputer.transform(x_test)"
   ]
  },
  {
   "cell_type": "code",
   "execution_count": 32,
   "metadata": {},
   "outputs": [
    {
     "name": "stdout",
     "output_type": "stream",
     "text": [
      "Index(['Age', 'Median household income', 'Grade', 'Combined Summary Stage',\n",
      "       'Stage Group', 'Tumor Size', 'Sex_Female', 'Sex_Male',\n",
      "       'Race_American Indian/Alaska Native', 'Race_Asian or Pacific Islander',\n",
      "       'Race_Black', 'Race_White', 'Marital status at diagnosis_Divorced',\n",
      "       'Marital status at diagnosis_Married (including common law)',\n",
      "       'Marital status at diagnosis_Separated',\n",
      "       'Marital status at diagnosis_Single (never married)',\n",
      "       'Marital status at diagnosis_Unmarried or Domestic Partner',\n",
      "       'Marital status at diagnosis_Widowed', 'Surgery_No', 'Surgery_Yes',\n",
      "       'Radiation_No', 'Radiation_Yes', 'Chemotherapy_No', 'Chemotherapy_Yes',\n",
      "       'Mets at DX-bone_No', 'Mets at DX-bone_Yes', 'Mets at DX-brain_No',\n",
      "       'Mets at DX-brain_Yes', 'Mets at DX-lung_No', 'Mets at DX-lung_Yes',\n",
      "       'Mets at DX-liver_No', 'Mets at DX-liver_Yes'],\n",
      "      dtype='object')\n",
      "Int64Index([ 6636, 24979, 12378, 15263, 21547, 17873, 28370,  2227, 12896,\n",
      "            11652,\n",
      "            ...\n",
      "            32481,  1996, 26485, 23711,  9261, 25212, 34368,  9771, 29939,\n",
      "            27336],\n",
      "           dtype='int64', length=24354)\n"
     ]
    }
   ],
   "source": [
    "# Convert back to pandas dataframe\n",
    "x_train_df = pd.DataFrame(x_train_imputed, columns=columns, index=train_index)\n",
    "x_test_df = pd.DataFrame(x_test_imputed, columns=columns, index=test_index)\n",
    "print(x_train_df.columns)\n",
    "print(x_train_df.index)\n",
    "# Convert into integer\n",
    "cols_to_convert = ['Age', 'Median household income', 'Grade', 'Stage Group', 'Combined Summary Stage']\n",
    "for col in cols_to_convert:\n",
    "    x_train_df[col] = x_train_df[col].astype(int)\n",
    "    x_test_df[col] = x_test_df[col].astype(int)"
   ]
  },
  {
   "cell_type": "code",
   "execution_count": 33,
   "metadata": {},
   "outputs": [],
   "source": [
    "#  Normalisation using StandardScaler\n",
    "scaler = StandardScaler()\n",
    "columns_to_scale = ['Age', 'Tumor Size']\n",
    "x_train_df[columns_to_scale] = scaler.fit_transform(x_train_df[columns_to_scale])\n",
    "x_test_df[columns_to_scale] = scaler.transform(x_test_df[columns_to_scale])"
   ]
  },
  {
   "cell_type": "code",
   "execution_count": 34,
   "metadata": {},
   "outputs": [],
   "source": [
    "# Reset indices to ensure consistency\n",
    "x_train_df = x_train_df.reset_index(drop=True)\n",
    "x_test_df = x_test_df.reset_index(drop=True)\n",
    "y_surv_train = y_surv_train.reset_index(drop=True)\n",
    "y_surv_test = y_surv_test.reset_index(drop=True)\n",
    "y_vital_train = y_vital_train.reset_index(drop=True)\n",
    "y_vital_test = y_vital_test.reset_index(drop=True)\n",
    "\n",
    "# Combine features and target variables\n",
    "train_data_new = pd.concat([x_train_df, y_surv_train, y_vital_train], axis=1)\n",
    "test_data_new = pd.concat([x_test_df, y_surv_test, y_vital_test], axis=1)\n",
    "\n",
    "# Map 'Alive' to 0 and 'Dead' to 1\n",
    "train_data_new['Vital status'] = train_data_new['Vital status'].map({'Alive': 0, 'Dead': 1})\n",
    "test_data_new['Vital status'] = test_data_new['Vital status'].map({'Alive': 0, 'Dead': 1})\n",
    "\n",
    "# Function to convert DataFrame to structured array for scikit-survival\n",
    "def df_to_structured(df, event_col, time_col):\n",
    "    return np.array([(e, t) for e, t in zip(df[event_col], df[time_col])], dtype=[('event', bool), ('time', np.float64)])\n",
    "\n",
    "# Convert training and testing data\n",
    "y_train_structured = df_to_structured(train_data_new, 'Vital status', 'Survival months')\n",
    "y_test_structured = df_to_structured(test_data_new, 'Vital status', 'Survival months')"
   ]
  },
  {
   "cell_type": "code",
   "execution_count": 35,
   "metadata": {},
   "outputs": [
    {
     "name": "stdout",
     "output_type": "stream",
     "text": [
      "Predicted survival times (Mean):        Predicted Survival Time (Mean)\n",
      "0                           15.569164\n",
      "1                           22.890884\n",
      "2                           30.832365\n",
      "3                           14.951649\n",
      "4                           24.585819\n",
      "...                               ...\n",
      "10433                       21.943356\n",
      "10434                       30.353859\n",
      "10435                        7.560636\n",
      "10436                       18.577583\n",
      "10437                       10.467992\n",
      "\n",
      "[10438 rows x 1 columns]\n",
      "CPU times: total: 62.5 ms\n",
      "Wall time: 584 ms\n"
     ]
    }
   ],
   "source": [
    "%%time\n",
    "from lifelines import CoxPHFitter\n",
    "from lifelines.utils import median_survival_times\n",
    "from lifelines.utils import concordance_index\n",
    "\n",
    "# Train the Cox Proportional Hazards model with L2 regularization\n",
    "coxph = CoxPHFitter(penalizer=0.3593813663804626)\n",
    "coxph.fit(train_data_new, duration_col='Survival months', event_col='Vital status')\n",
    "\n",
    "# Predict the mean survival time for each individual in the test set\n",
    "predicted_means  = coxph.predict_expectation(test_data_new.drop(['Vital status', 'Survival months'], axis=1))\n",
    "\n",
    "# Convert the predictions to a DataFrame for further processing\n",
    "predicted_means = pd.DataFrame(predicted_means, columns=['Predicted Survival Time (Mean)'])\n",
    "print(f\"Predicted survival times (Mean): {predicted_means}\")"
   ]
  },
  {
   "cell_type": "code",
   "execution_count": 36,
   "metadata": {},
   "outputs": [
    {
     "data": {
      "text/plain": [
       "['cox_model.sav']"
      ]
     },
     "execution_count": 36,
     "metadata": {},
     "output_type": "execute_result"
    }
   ],
   "source": [
    "# save the model to disk\n",
    "joblib.dump(coxph, \"cox_model.sav\")"
   ]
  }
 ],
 "metadata": {
  "kernelspec": {
   "display_name": "PY379",
   "language": "python",
   "name": "py37"
  },
  "language_info": {
   "codemirror_mode": {
    "name": "ipython",
    "version": 3
   },
   "file_extension": ".py",
   "mimetype": "text/x-python",
   "name": "python",
   "nbconvert_exporter": "python",
   "pygments_lexer": "ipython3",
   "version": "3.8.19"
  }
 },
 "nbformat": 4,
 "nbformat_minor": 2
}
